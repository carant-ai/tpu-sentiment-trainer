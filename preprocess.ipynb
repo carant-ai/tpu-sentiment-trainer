{
 "cells": [
  {
   "cell_type": "markdown",
   "metadata": {},
   "source": [
    "# English"
   ]
  },
  {
   "cell_type": "code",
   "execution_count": 3,
   "metadata": {},
   "outputs": [],
   "source": [
    "from datasets import load_dataset\n",
    "import pandas as pd\n",
    "\n",
    "rating_mapping = {\n",
    "    1: 'negative',\n",
    "    2: 'negative',\n",
    "    3: 'unlabeled',\n",
    "    4: 'unlabeled',\n",
    "    5: 'positive'\n",
    "}\n",
    "rating_mapping = pd.DataFrame({\"index\":rating_mapping.keys(), \"label_text\":rating_mapping.values()}).set_index(\"index\")\n"
   ]
  },
  {
   "cell_type": "markdown",
   "metadata": {},
   "source": [
    "## (hf) McAuley-Lab/Amazon-Reviews-2023"
   ]
  },
  {
   "cell_type": "code",
   "execution_count": 5,
   "metadata": {},
   "outputs": [
    {
     "name": "stderr",
     "output_type": "stream",
     "text": [
      "Downloading data: 100%|██████████| 5.97G/5.97G [01:14<00:00, 79.9MB/s]\n",
      "Generating full split: 14318520 examples [04:06, 57976.74 examples/s]\n"
     ]
    },
    {
     "name": "stdout",
     "output_type": "stream",
     "text": [
      "{'rating': 5.0, 'title': 'Excellent!  Yummy!', 'text': 'Excellent!! Yummy!  Great with other foods and great alone.', 'images': [], 'asin': 'B00CM36GAQ', 'parent_asin': 'B00CM36GAQ', 'user_id': 'AFKZENTNBQ7A7V7UXW5JJI6UGRYQ', 'timestamp': 1587854482395, 'helpful_vote': 0, 'verified_purchase': True}\n"
     ]
    },
    {
     "name": "stderr",
     "output_type": "stream",
     "text": [
      "Downloading data: 100%|██████████| 31.4G/31.4G [11:14<00:00, 46.6MB/s]  \n",
      "Generating full split: 67409944 examples [28:50, 38958.34 examples/s]\n"
     ]
    },
    {
     "name": "stdout",
     "output_type": "stream",
     "text": [
      "{'rating': 1.0, 'title': 'Received Used & scratched item! Purchased new!', 'text': 'Livid.  Once again received an obviously used item that has food on it & scratches. I purchased this new!!  Pics not loading rn. Will add them later. Disgusted.', 'images': [], 'asin': 'B007WQ9YNO', 'parent_asin': 'B09XWYG6X1', 'user_id': 'AFKZENTNBQ7A7V7UXW5JJI6UGRYQ', 'timestamp': 1677373409298, 'helpful_vote': 1, 'verified_purchase': True}\n"
     ]
    }
   ],
   "source": [
    "dataset_name = \"McAuley-Lab/Amazon-Reviews-2023\"\n",
    "frame = []\n",
    "\n",
    "configurations = ['raw_review_Grocery_and_Gourmet_Food', 'raw_review_Home_and_Kitchen']\n",
    "\n",
    "for conf in configurations:\n",
    "    df = load_dataset(dataset_name, conf, split = 'full', trust_remote_code=True).to_pandas()\n",
    "    df = df.merge(rating_mapping, how = 'left', left_on = 'rating', right_on = 'index')\n",
    "    df = df[['text','label_text']]\n",
    "    df['source'] = dataset_name\n",
    "    df['split'] = conf\n",
    "    frame.append(df)\n",
    "\n",
    "dataset = pd.concat(frame)\n",
    "del frame, df\n",
    "dataset"
   ]
  },
  {
   "cell_type": "markdown",
   "metadata": {},
   "source": [
    "## (hf) imdb"
   ]
  },
  {
   "cell_type": "code",
   "execution_count": null,
   "metadata": {},
   "outputs": [],
   "source": [
    "dataset_name = \"imdb\"\n",
    "frame = []\n",
    "\n",
    "label_mapping = {\n",
    "    0: 'negative',\n",
    "    -1: 'unlabeled',\n",
    "    1: 'positive'\n",
    "}\n",
    "label_mapping = pd.DataFrame({\"index\": label_mapping.keys(), \"label_text\": label_mapping.values()}).set_index(\"index\")\n",
    "\n",
    "configurations = ['train', 'test', 'unsupervised']\n",
    "\n",
    "for conf in configurations:\n",
    "    df = load_dataset(dataset_name, split = conf, trust_remote_code = True).to_pandas()\n",
    "    df = df.merge(label_mapping, how = 'left', left_on = 'label', right_on = 'index')\n",
    "    df = df[['text','label_text']]\n",
    "    df['source'] = dataset_name\n",
    "    df['split'] = conf\n",
    "    frame.append(df)\n",
    "\n",
    "dataset = pd.concat(frame)\n",
    "del frame, df\n",
    "dataset"
   ]
  },
  {
   "cell_type": "markdown",
   "metadata": {},
   "source": [
    "## (hf) mteb/tweet_sentiment_extraction"
   ]
  },
  {
   "cell_type": "code",
   "execution_count": null,
   "metadata": {},
   "outputs": [],
   "source": [
    "dataset_name = \"mteb/tweet_sentiment_extraction\"\n",
    "frame = []\n",
    "\n",
    "configurations = ['train', 'test']\n",
    "\n",
    "for conf in configurations:\n",
    "    df = load_dataset(dataset_name, split = conf, trust_remote_code = True).to_pandas()\n",
    "    df = df[['text','label_text']]\n",
    "    df['source'] = dataset_name\n",
    "    df['split'] = conf\n",
    "    frame.append(df)\n",
    "\n",
    "dataset = pd.concat(frame)\n",
    "del frame, df\n",
    "dataset"
   ]
  },
  {
   "cell_type": "markdown",
   "metadata": {},
   "source": [
    "## (kaggle) snap/amazon-fine-food-reviews"
   ]
  },
  {
   "cell_type": "code",
   "execution_count": null,
   "metadata": {},
   "outputs": [],
   "source": [
    "import subprocess\n",
    "subprocess.run(\"kaggle datasets download -d snap/amazon-fine-food-reviews\")\n",
    "subprocess.run(\"unzip amazon-fine-food-reviews.zip\")\n",
    "subprocess.run(\"rm amazon-fine-food-reviews.zip hashes.txt database.sqlite\")"
   ]
  },
  {
   "cell_type": "code",
   "execution_count": null,
   "metadata": {},
   "outputs": [],
   "source": [
    "df = pd.read_csv(\"Reviews.csv\")\n",
    "df = df.merge(rating_mapping, how = 'left', left_on = 'Score', right_on = 'index').rename(columns = {\"Text\": 'text'})\n",
    "dataset = df[['text','label_text']]\n",
    "dataset['source'] = dataset_name\n",
    "dataset['split'] = conf\n",
    "dataset"
   ]
  },
  {
   "cell_type": "markdown",
   "metadata": {},
   "source": [
    "# Indonesian"
   ]
  },
  {
   "cell_type": "markdown",
   "metadata": {},
   "source": [
    "## (hf) indonlp/indonlu"
   ]
  },
  {
   "cell_type": "code",
   "execution_count": 10,
   "metadata": {},
   "outputs": [
    {
     "data": {
      "text/plain": [
       "Dataset({\n",
       "    features: ['text', 'label'],\n",
       "    num_rows: 1260\n",
       "})"
      ]
     },
     "execution_count": 10,
     "metadata": {},
     "output_type": "execute_result"
    }
   ],
   "source": [
    "dataset_name = \"indonlp/indonlu\"\n",
    "conf = 'smsa'\n",
    "\n",
    "for split in ['train', 'test', 'validation']:\n",
    "    dataset = load_dataset(dataset_name, conf, split = split, trust_remote_code = True)\n",
    "dataset"
   ]
  },
  {
   "cell_type": "markdown",
   "metadata": {},
   "source": [
    "## (drive) Female Daily Review Dataset"
   ]
  },
  {
   "cell_type": "code",
   "execution_count": null,
   "metadata": {},
   "outputs": [],
   "source": [
    "subprocess.run(\"pip install gdown\")\n",
    "subprocess.run(\"gdown --id 1smg2JQfz9tUf02ixpXGhkYN3zAkPQNQ_\")\n",
    "subprocess.run(\"gdown --id 12PWEk7vPrm0csj97kNGGmHz1Pu4Axd6Y\")"
   ]
  },
  {
   "cell_type": "code",
   "execution_count": 14,
   "metadata": {},
   "outputs": [
    {
     "data": {
      "text/html": [
       "<div>\n",
       "<style scoped>\n",
       "    .dataframe tbody tr th:only-of-type {\n",
       "        vertical-align: middle;\n",
       "    }\n",
       "\n",
       "    .dataframe tbody tr th {\n",
       "        vertical-align: top;\n",
       "    }\n",
       "\n",
       "    .dataframe thead th {\n",
       "        text-align: right;\n",
       "    }\n",
       "</style>\n",
       "<table border=\"1\" class=\"dataframe\">\n",
       "  <thead>\n",
       "    <tr style=\"text-align: right;\">\n",
       "      <th></th>\n",
       "      <th>review_text</th>\n",
       "      <th>review_class</th>\n",
       "    </tr>\n",
       "  </thead>\n",
       "  <tbody>\n",
       "    <tr>\n",
       "      <th>0</th>\n",
       "      <td>nyobain krim ini karna liat review di fd yg ba...</td>\n",
       "      <td>pos</td>\n",
       "    </tr>\n",
       "    <tr>\n",
       "      <th>1</th>\n",
       "      <td>pertama kali lia ini di indomaret wkwk, terus ...</td>\n",
       "      <td>pos</td>\n",
       "    </tr>\n",
       "    <tr>\n",
       "      <th>2</th>\n",
       "      <td>lebih suka yg ini drpd yg botol biru. setelah ...</td>\n",
       "      <td>pos</td>\n",
       "    </tr>\n",
       "    <tr>\n",
       "      <th>3</th>\n",
       "      <td>micellar water ini saya beli waktu harbolnas l...</td>\n",
       "      <td>pos</td>\n",
       "    </tr>\n",
       "    <tr>\n",
       "      <th>4</th>\n",
       "      <td>aku pake scrub ini udah botol kedua. menurut a...</td>\n",
       "      <td>pos</td>\n",
       "    </tr>\n",
       "    <tr>\n",
       "      <th>...</th>\n",
       "      <td>...</td>\n",
       "      <td>...</td>\n",
       "    </tr>\n",
       "    <tr>\n",
       "      <th>562102</th>\n",
       "      <td>beli rosehip oil organic supply co ini di jxb ...</td>\n",
       "      <td>neg</td>\n",
       "    </tr>\n",
       "    <tr>\n",
       "      <th>562103</th>\n",
       "      <td>suka banget sama mask sheet yg ini.. cocok unt...</td>\n",
       "      <td>pos</td>\n",
       "    </tr>\n",
       "    <tr>\n",
       "      <th>562104</th>\n",
       "      <td>lagi nyari-nyari cleansing water karena kebetu...</td>\n",
       "      <td>pos</td>\n",
       "    </tr>\n",
       "    <tr>\n",
       "      <th>562105</th>\n",
       "      <td>dulu sempet pake ini untuk concealer, dan bisa...</td>\n",
       "      <td>pos</td>\n",
       "    </tr>\n",
       "    <tr>\n",
       "      <th>562106</th>\n",
       "      <td>biasanya aku pake sheet mask innisfree terutam...</td>\n",
       "      <td>pos</td>\n",
       "    </tr>\n",
       "  </tbody>\n",
       "</table>\n",
       "<p>562107 rows × 2 columns</p>\n",
       "</div>"
      ],
      "text/plain": [
       "                                              review_text review_class\n",
       "0       nyobain krim ini karna liat review di fd yg ba...          pos\n",
       "1       pertama kali lia ini di indomaret wkwk, terus ...          pos\n",
       "2       lebih suka yg ini drpd yg botol biru. setelah ...          pos\n",
       "3       micellar water ini saya beli waktu harbolnas l...          pos\n",
       "4       aku pake scrub ini udah botol kedua. menurut a...          pos\n",
       "...                                                   ...          ...\n",
       "562102  beli rosehip oil organic supply co ini di jxb ...          neg\n",
       "562103  suka banget sama mask sheet yg ini.. cocok unt...          pos\n",
       "562104  lagi nyari-nyari cleansing water karena kebetu...          pos\n",
       "562105  dulu sempet pake ini untuk concealer, dan bisa...          pos\n",
       "562106  biasanya aku pake sheet mask innisfree terutam...          pos\n",
       "\n",
       "[562107 rows x 2 columns]"
      ]
     },
     "execution_count": 14,
     "metadata": {},
     "output_type": "execute_result"
    }
   ],
   "source": [
    "import pandas as pd\n",
    "import json\n",
    "def parse_reviews(filename):\n",
    "    reviews_list = []\n",
    "\n",
    "    # Open the file\n",
    "    with open(filename, \"r\") as file:\n",
    "        # Read each line (JSON object) in the file\n",
    "        for line in file:\n",
    "            # Parse the JSON object\n",
    "            review = json.loads(line)\n",
    "            \n",
    "            # Append the review to the list\n",
    "            reviews_list.append(review)\n",
    "    \n",
    "    return reviews_list\n",
    "\n",
    "# Usage\n",
    "reviews = parse_reviews(\"all_dataset_train.json\")\n",
    "df = pd.DataFrame(reviews)\n",
    "df\n"
   ]
  },
  {
   "cell_type": "markdown",
   "metadata": {},
   "source": [
    "## (Researhgate) Indonesian_Sentiment_Twitter_Dataset"
   ]
  },
  {
   "cell_type": "code",
   "execution_count": null,
   "metadata": {},
   "outputs": [],
   "source": [
    "# Manual download and upload at https://www.researchgate.net/publication/339936724_Indonesian_Sentiment_Twitter_Dataset"
   ]
  },
  {
   "cell_type": "code",
   "execution_count": null,
   "metadata": {},
   "outputs": [],
   "source": [
    "dataset_name = \"intanm/indonesian-financial-sentiment-analysis\"\n",
    "label_mapping = {\n",
    "    0: 'negative',\n",
    "    1: 'neutral',\n",
    "    2: 'positive'\n",
    "    }"
   ]
  },
  {
   "cell_type": "code",
   "execution_count": null,
   "metadata": {},
   "outputs": [],
   "source": []
  }
 ],
 "metadata": {
  "kernelspec": {
   "display_name": "Python 3",
   "language": "python",
   "name": "python3"
  },
  "language_info": {
   "codemirror_mode": {
    "name": "ipython",
    "version": 3
   },
   "file_extension": ".py",
   "mimetype": "text/x-python",
   "name": "python",
   "nbconvert_exporter": "python",
   "pygments_lexer": "ipython3",
   "version": "3.10.12"
  }
 },
 "nbformat": 4,
 "nbformat_minor": 2
}
