{
 "cells": [
  {
   "cell_type": "code",
   "execution_count": 3,
   "metadata": {},
   "outputs": [],
   "source": [
    "from datasets import load_dataset\n",
    "import pandas as pd\n",
    "\n",
    "rating_mapping = {\n",
    "    1: 'negative',\n",
    "    2: 'negative',\n",
    "    3: 'unlabeled',\n",
    "    4: 'unlabeled',\n",
    "    5: 'positive'\n",
    "}\n",
    "rating_mapping = pd.DataFrame({\"index\":rating_mapping.keys(), \"label_text\":rating_mapping.values()}).set_index(\"index\")\n"
   ]
  },
  {
   "cell_type": "code",
   "execution_count": 5,
   "metadata": {},
   "outputs": [
    {
     "name": "stderr",
     "output_type": "stream",
     "text": [
      "Downloading data: 100%|██████████| 5.97G/5.97G [01:14<00:00, 79.9MB/s]\n",
      "Generating full split: 14318520 examples [04:06, 57976.74 examples/s]\n"
     ]
    },
    {
     "name": "stdout",
     "output_type": "stream",
     "text": [
      "{'rating': 5.0, 'title': 'Excellent!  Yummy!', 'text': 'Excellent!! Yummy!  Great with other foods and great alone.', 'images': [], 'asin': 'B00CM36GAQ', 'parent_asin': 'B00CM36GAQ', 'user_id': 'AFKZENTNBQ7A7V7UXW5JJI6UGRYQ', 'timestamp': 1587854482395, 'helpful_vote': 0, 'verified_purchase': True}\n"
     ]
    },
    {
     "name": "stderr",
     "output_type": "stream",
     "text": [
      "Downloading data:  55%|█████▌    | 17.4G/31.4G [06:15<05:19, 43.9MB/s]  "
     ]
    }
   ],
   "source": [
    "dataset_name = \"McAuley-Lab/Amazon-Reviews-2023\"\n",
    "frame = []\n",
    "\n",
    "configurations = ['raw_review_Grocery_and_Gourmet_Food', 'raw_review_Home_and_Kitchen']\n",
    "\n",
    "for conf in configurations:\n",
    "    df = load_dataset(dataset_name, conf, split = 'full', trust_remote_code=True).to_pandas()\n",
    "    df = df.merge(rating_mapping, how = 'left', left_on = 'rating', right_on = 'index')\n",
    "    df = df[['text','label_text']]\n",
    "    df['source'] = dataset_name\n",
    "    df['split'] = conf\n",
    "    frame.append(df)\n",
    "\n",
    "dataset = pd.concat(frame)\n",
    "del frame, df\n",
    "dataset"
   ]
  },
  {
   "cell_type": "code",
   "execution_count": null,
   "metadata": {},
   "outputs": [],
   "source": [
    "dataset_name = \"imdb\"\n",
    "frame = []\n",
    "\n",
    "label_mapping = {\n",
    "    0: 'negative',\n",
    "    -1: 'unlabeled',\n",
    "    1: 'positive'\n",
    "}\n",
    "label_mapping = pd.DataFrame({\"index\": label_mapping.keys(), \"label_text\": label_mapping.values()}).set_index(\"index\")\n",
    "\n",
    "configurations = ['train', 'test', 'unsupervised']\n",
    "\n",
    "for conf in configurations:\n",
    "    df = load_dataset(dataset_name, split = conf, trust_remote_code = True).to_pandas()\n",
    "    df = df.merge(label_mapping, how = 'left', left_on = 'label', right_on = 'index')\n",
    "    df = df[['text','label_text']]\n",
    "    df['source'] = dataset_name\n",
    "    df['split'] = conf\n",
    "    frame.append(df)\n",
    "\n",
    "dataset = pd.concat(frame)\n",
    "del frame, df\n",
    "dataset"
   ]
  },
  {
   "cell_type": "code",
   "execution_count": null,
   "metadata": {},
   "outputs": [],
   "source": [
    "dataset_name = \"mteb/tweet_sentiment_extraction\"\n",
    "frame = []\n",
    "\n",
    "configurations = ['train', 'test']\n",
    "\n",
    "for conf in configurations:\n",
    "    df = load_dataset(dataset_name, split = conf, trust_remote_code = True).to_pandas()\n",
    "    df = df[['text','label_text']]\n",
    "    df['source'] = dataset_name\n",
    "    df['split'] = conf\n",
    "    frame.append(df)\n",
    "\n",
    "dataset = pd.concat(frame)\n",
    "del frame, df\n",
    "dataset"
   ]
  },
  {
   "cell_type": "code",
   "execution_count": null,
   "metadata": {},
   "outputs": [],
   "source": [
    "import subprocess\n",
    "subprocess.run(\"kaggle datasets download -d snap/amazon-fine-food-reviews\")\n",
    "subprocess.run(\"unzip amazon-fine-food-reviews.zip\")\n",
    "subprocess.run(\"rm amazon-fine-food-reviews.zip hashes.txt database.sqlite\")\n",
    "\n"
   ]
  },
  {
   "cell_type": "code",
   "execution_count": null,
   "metadata": {},
   "outputs": [],
   "source": [
    "df = pd.read_csv(\"Reviews.csv\")\n",
    "df.head(5)"
   ]
  }
 ],
 "metadata": {
  "kernelspec": {
   "display_name": "Python 3",
   "language": "python",
   "name": "python3"
  },
  "language_info": {
   "codemirror_mode": {
    "name": "ipython",
    "version": 3
   },
   "file_extension": ".py",
   "mimetype": "text/x-python",
   "name": "python",
   "nbconvert_exporter": "python",
   "pygments_lexer": "ipython3",
   "version": "3.10.12"
  }
 },
 "nbformat": 4,
 "nbformat_minor": 2
}
